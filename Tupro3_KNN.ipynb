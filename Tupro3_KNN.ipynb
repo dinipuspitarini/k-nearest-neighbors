{
  "nbformat": 4,
  "nbformat_minor": 0,
  "metadata": {
    "colab": {
      "name": "Tupro3_KNN.ipynb",
      "provenance": [],
      "collapsed_sections": []
    },
    "kernelspec": {
      "name": "python3",
      "display_name": "Python 3"
    },
    "language_info": {
      "name": "python"
    }
  },
  "cells": [
    {
      "cell_type": "markdown",
      "metadata": {
        "id": "5-X_Q3T2MW1s"
      },
      "source": [
        "# **Tugas Pemrograman Pengantar AI 3 K-Nearest Neighbor**"
      ]
    },
    {
      "cell_type": "markdown",
      "metadata": {
        "id": "QvJyQSbeX_wS"
      },
      "source": [
        "(1301194141) Ni Made Dwipadini Puspitarini\n",
        "\n",
        "(1301190318) Iqbal Saviola Syah Billhaq\t\t\n",
        "\n",
        "(1301194288) Afrizal Syahruluddin Yusuf\t\t\n",
        "\n"
      ]
    },
    {
      "cell_type": "markdown",
      "metadata": {
        "id": "YT15t4Hjo50Y"
      },
      "source": [
        "# **Import Library**"
      ]
    },
    {
      "cell_type": "code",
      "metadata": {
        "id": "EryUg0g1ohoW"
      },
      "source": [
        "import pandas as pd\n",
        "import numpy as np"
      ],
      "execution_count": 1,
      "outputs": []
    },
    {
      "cell_type": "markdown",
      "metadata": {
        "id": "ijSNUu_wo-g9"
      },
      "source": [
        "# **Read Dataset**"
      ]
    },
    {
      "cell_type": "code",
      "metadata": {
        "colab": {
          "base_uri": "https://localhost:8080/"
        },
        "id": "7QbG6pdupB89",
        "outputId": "4b0d12ae-b473-4767-e3ef-94c45152bc4b"
      },
      "source": [
        "!gdown --id 1mHvbeuKY-KZ_OqvHx_72Z5RcAPLMneIg"
      ],
      "execution_count": 2,
      "outputs": [
        {
          "output_type": "stream",
          "name": "stdout",
          "text": [
            "Downloading...\n",
            "From: https://drive.google.com/uc?id=1mHvbeuKY-KZ_OqvHx_72Z5RcAPLMneIg\n",
            "To: /content/mobil.xls\n",
            "\r  0% 0.00/29.2k [00:00<?, ?B/s]\r100% 29.2k/29.2k [00:00<00:00, 31.9MB/s]\n"
          ]
        }
      ]
    },
    {
      "cell_type": "code",
      "metadata": {
        "colab": {
          "base_uri": "https://localhost:8080/",
          "height": 363
        },
        "id": "hjRKjpb1py4V",
        "outputId": "822f1446-6773-4fe2-cded-a97605aeee22"
      },
      "source": [
        "df = pd.read_excel('mobil.xls')\n",
        "df.head(10)"
      ],
      "execution_count": 3,
      "outputs": [
        {
          "output_type": "execute_result",
          "data": {
            "text/html": [
              "<div>\n",
              "<style scoped>\n",
              "    .dataframe tbody tr th:only-of-type {\n",
              "        vertical-align: middle;\n",
              "    }\n",
              "\n",
              "    .dataframe tbody tr th {\n",
              "        vertical-align: top;\n",
              "    }\n",
              "\n",
              "    .dataframe thead th {\n",
              "        text-align: right;\n",
              "    }\n",
              "</style>\n",
              "<table border=\"1\" class=\"dataframe\">\n",
              "  <thead>\n",
              "    <tr style=\"text-align: right;\">\n",
              "      <th></th>\n",
              "      <th>Nama Mobil</th>\n",
              "      <th>Ukuran</th>\n",
              "      <th>Kenyamanan</th>\n",
              "      <th>Irit</th>\n",
              "      <th>Kecepatan</th>\n",
              "      <th>Harga (Ratus Juta)</th>\n",
              "    </tr>\n",
              "  </thead>\n",
              "  <tbody>\n",
              "    <tr>\n",
              "      <th>0</th>\n",
              "      <td>Toyota Agya</td>\n",
              "      <td>4</td>\n",
              "      <td>4</td>\n",
              "      <td>9</td>\n",
              "      <td>6</td>\n",
              "      <td>1.00</td>\n",
              "    </tr>\n",
              "    <tr>\n",
              "      <th>1</th>\n",
              "      <td>Daihatsu Alya</td>\n",
              "      <td>4</td>\n",
              "      <td>3</td>\n",
              "      <td>9</td>\n",
              "      <td>6</td>\n",
              "      <td>1.10</td>\n",
              "    </tr>\n",
              "    <tr>\n",
              "      <th>2</th>\n",
              "      <td>Toyota Avanza</td>\n",
              "      <td>6</td>\n",
              "      <td>5</td>\n",
              "      <td>6</td>\n",
              "      <td>6</td>\n",
              "      <td>2.00</td>\n",
              "    </tr>\n",
              "    <tr>\n",
              "      <th>3</th>\n",
              "      <td>Daihatsu Xenia</td>\n",
              "      <td>6</td>\n",
              "      <td>4</td>\n",
              "      <td>6</td>\n",
              "      <td>6</td>\n",
              "      <td>1.75</td>\n",
              "    </tr>\n",
              "    <tr>\n",
              "      <th>4</th>\n",
              "      <td>Xpander</td>\n",
              "      <td>7</td>\n",
              "      <td>7</td>\n",
              "      <td>6</td>\n",
              "      <td>7</td>\n",
              "      <td>2.25</td>\n",
              "    </tr>\n",
              "    <tr>\n",
              "      <th>5</th>\n",
              "      <td>Livina</td>\n",
              "      <td>7</td>\n",
              "      <td>7</td>\n",
              "      <td>6</td>\n",
              "      <td>7</td>\n",
              "      <td>2.10</td>\n",
              "    </tr>\n",
              "    <tr>\n",
              "      <th>6</th>\n",
              "      <td>Karimun</td>\n",
              "      <td>3</td>\n",
              "      <td>4</td>\n",
              "      <td>10</td>\n",
              "      <td>5</td>\n",
              "      <td>1.20</td>\n",
              "    </tr>\n",
              "    <tr>\n",
              "      <th>7</th>\n",
              "      <td>Toyota Innova</td>\n",
              "      <td>8</td>\n",
              "      <td>8</td>\n",
              "      <td>5</td>\n",
              "      <td>7</td>\n",
              "      <td>4.00</td>\n",
              "    </tr>\n",
              "    <tr>\n",
              "      <th>8</th>\n",
              "      <td>Alphard</td>\n",
              "      <td>9</td>\n",
              "      <td>10</td>\n",
              "      <td>4</td>\n",
              "      <td>8</td>\n",
              "      <td>10.00</td>\n",
              "    </tr>\n",
              "    <tr>\n",
              "      <th>9</th>\n",
              "      <td>Toyota Vios</td>\n",
              "      <td>5</td>\n",
              "      <td>7</td>\n",
              "      <td>9</td>\n",
              "      <td>8</td>\n",
              "      <td>2.50</td>\n",
              "    </tr>\n",
              "  </tbody>\n",
              "</table>\n",
              "</div>"
            ],
            "text/plain": [
              "       Nama Mobil  Ukuran  Kenyamanan  Irit  Kecepatan  Harga (Ratus Juta)\n",
              "0     Toyota Agya       4           4     9          6                1.00\n",
              "1   Daihatsu Alya       4           3     9          6                1.10\n",
              "2   Toyota Avanza       6           5     6          6                2.00\n",
              "3  Daihatsu Xenia       6           4     6          6                1.75\n",
              "4         Xpander       7           7     6          7                2.25\n",
              "5          Livina       7           7     6          7                2.10\n",
              "6         Karimun       3           4    10          5                1.20\n",
              "7   Toyota Innova       8           8     5          7                4.00\n",
              "8         Alphard       9          10     4          8               10.00\n",
              "9     Toyota Vios       5           7     9          8                2.50"
            ]
          },
          "metadata": {},
          "execution_count": 3
        }
      ]
    },
    {
      "cell_type": "markdown",
      "metadata": {
        "id": "UZLvnW_LqlIH"
      },
      "source": [
        "# **Data Preprocessing**"
      ]
    },
    {
      "cell_type": "code",
      "metadata": {
        "colab": {
          "base_uri": "https://localhost:8080/",
          "height": 300
        },
        "id": "BgNWp92bqauL",
        "outputId": "b942ca7a-0b62-4358-d7aa-52edaae92e93"
      },
      "source": [
        "df.describe()"
      ],
      "execution_count": 4,
      "outputs": [
        {
          "output_type": "execute_result",
          "data": {
            "text/html": [
              "<div>\n",
              "<style scoped>\n",
              "    .dataframe tbody tr th:only-of-type {\n",
              "        vertical-align: middle;\n",
              "    }\n",
              "\n",
              "    .dataframe tbody tr th {\n",
              "        vertical-align: top;\n",
              "    }\n",
              "\n",
              "    .dataframe thead th {\n",
              "        text-align: right;\n",
              "    }\n",
              "</style>\n",
              "<table border=\"1\" class=\"dataframe\">\n",
              "  <thead>\n",
              "    <tr style=\"text-align: right;\">\n",
              "      <th></th>\n",
              "      <th>Ukuran</th>\n",
              "      <th>Kenyamanan</th>\n",
              "      <th>Irit</th>\n",
              "      <th>Kecepatan</th>\n",
              "      <th>Harga (Ratus Juta)</th>\n",
              "    </tr>\n",
              "  </thead>\n",
              "  <tbody>\n",
              "    <tr>\n",
              "      <th>count</th>\n",
              "      <td>17.000000</td>\n",
              "      <td>17.000000</td>\n",
              "      <td>17.000000</td>\n",
              "      <td>17.000000</td>\n",
              "      <td>17.000000</td>\n",
              "    </tr>\n",
              "    <tr>\n",
              "      <th>mean</th>\n",
              "      <td>6.529412</td>\n",
              "      <td>6.352941</td>\n",
              "      <td>6.941176</td>\n",
              "      <td>6.823529</td>\n",
              "      <td>3.247059</td>\n",
              "    </tr>\n",
              "    <tr>\n",
              "      <th>std</th>\n",
              "      <td>2.034627</td>\n",
              "      <td>2.234423</td>\n",
              "      <td>1.784327</td>\n",
              "      <td>1.131111</td>\n",
              "      <td>2.406597</td>\n",
              "    </tr>\n",
              "    <tr>\n",
              "      <th>min</th>\n",
              "      <td>3.000000</td>\n",
              "      <td>3.000000</td>\n",
              "      <td>4.000000</td>\n",
              "      <td>5.000000</td>\n",
              "      <td>0.800000</td>\n",
              "    </tr>\n",
              "    <tr>\n",
              "      <th>25%</th>\n",
              "      <td>5.000000</td>\n",
              "      <td>4.000000</td>\n",
              "      <td>6.000000</td>\n",
              "      <td>6.000000</td>\n",
              "      <td>1.750000</td>\n",
              "    </tr>\n",
              "    <tr>\n",
              "      <th>50%</th>\n",
              "      <td>7.000000</td>\n",
              "      <td>7.000000</td>\n",
              "      <td>7.000000</td>\n",
              "      <td>7.000000</td>\n",
              "      <td>2.300000</td>\n",
              "    </tr>\n",
              "    <tr>\n",
              "      <th>75%</th>\n",
              "      <td>8.000000</td>\n",
              "      <td>8.000000</td>\n",
              "      <td>9.000000</td>\n",
              "      <td>8.000000</td>\n",
              "      <td>5.000000</td>\n",
              "    </tr>\n",
              "    <tr>\n",
              "      <th>max</th>\n",
              "      <td>10.000000</td>\n",
              "      <td>10.000000</td>\n",
              "      <td>10.000000</td>\n",
              "      <td>9.000000</td>\n",
              "      <td>10.000000</td>\n",
              "    </tr>\n",
              "  </tbody>\n",
              "</table>\n",
              "</div>"
            ],
            "text/plain": [
              "          Ukuran  Kenyamanan       Irit  Kecepatan  Harga (Ratus Juta)\n",
              "count  17.000000   17.000000  17.000000  17.000000           17.000000\n",
              "mean    6.529412    6.352941   6.941176   6.823529            3.247059\n",
              "std     2.034627    2.234423   1.784327   1.131111            2.406597\n",
              "min     3.000000    3.000000   4.000000   5.000000            0.800000\n",
              "25%     5.000000    4.000000   6.000000   6.000000            1.750000\n",
              "50%     7.000000    7.000000   7.000000   7.000000            2.300000\n",
              "75%     8.000000    8.000000   9.000000   8.000000            5.000000\n",
              "max    10.000000   10.000000  10.000000   9.000000           10.000000"
            ]
          },
          "metadata": {},
          "execution_count": 4
        }
      ]
    },
    {
      "cell_type": "code",
      "metadata": {
        "colab": {
          "base_uri": "https://localhost:8080/"
        },
        "id": "yLecrpvLVBA7",
        "outputId": "90600395-eab6-437f-ec27-a85d5841efb6"
      },
      "source": [
        "df.shape"
      ],
      "execution_count": 5,
      "outputs": [
        {
          "output_type": "execute_result",
          "data": {
            "text/plain": [
              "(17, 6)"
            ]
          },
          "metadata": {},
          "execution_count": 5
        }
      ]
    },
    {
      "cell_type": "code",
      "metadata": {
        "colab": {
          "base_uri": "https://localhost:8080/"
        },
        "id": "3M-_3IxnVC5u",
        "outputId": "102ef63f-7725-4b92-fbf1-5bd62ec7b1c5"
      },
      "source": [
        "df.info()"
      ],
      "execution_count": 6,
      "outputs": [
        {
          "output_type": "stream",
          "name": "stdout",
          "text": [
            "<class 'pandas.core.frame.DataFrame'>\n",
            "RangeIndex: 17 entries, 0 to 16\n",
            "Data columns (total 6 columns):\n",
            " #   Column              Non-Null Count  Dtype  \n",
            "---  ------              --------------  -----  \n",
            " 0   Nama Mobil          17 non-null     object \n",
            " 1   Ukuran              17 non-null     int64  \n",
            " 2   Kenyamanan          17 non-null     int64  \n",
            " 3   Irit                17 non-null     int64  \n",
            " 4   Kecepatan           17 non-null     int64  \n",
            " 5   Harga (Ratus Juta)  17 non-null     float64\n",
            "dtypes: float64(1), int64(4), object(1)\n",
            "memory usage: 944.0+ bytes\n"
          ]
        }
      ]
    },
    {
      "cell_type": "code",
      "metadata": {
        "colab": {
          "base_uri": "https://localhost:8080/"
        },
        "id": "Fb9gR2_yVSCI",
        "outputId": "29f0554d-dc42-4341-bc1b-0524d27a0161"
      },
      "source": [
        "df.isna().sum()"
      ],
      "execution_count": 7,
      "outputs": [
        {
          "output_type": "execute_result",
          "data": {
            "text/plain": [
              "Nama Mobil            0\n",
              "Ukuran                0\n",
              "Kenyamanan            0\n",
              "Irit                  0\n",
              "Kecepatan             0\n",
              "Harga (Ratus Juta)    0\n",
              "dtype: int64"
            ]
          },
          "metadata": {},
          "execution_count": 7
        }
      ]
    },
    {
      "cell_type": "code",
      "metadata": {
        "colab": {
          "base_uri": "https://localhost:8080/"
        },
        "id": "5XW2AR9OuViX",
        "outputId": "5f8c3a40-caba-40ac-a982-5bcc18ac3a95"
      },
      "source": [
        "df = df.rename({'Harga (Ratus Juta)': 'Harga'}, axis=1)\n",
        "df.columns"
      ],
      "execution_count": 8,
      "outputs": [
        {
          "output_type": "execute_result",
          "data": {
            "text/plain": [
              "Index(['Nama Mobil', 'Ukuran', 'Kenyamanan', 'Irit', 'Kecepatan', 'Harga'], dtype='object')"
            ]
          },
          "metadata": {},
          "execution_count": 8
        }
      ]
    },
    {
      "cell_type": "code",
      "metadata": {
        "id": "kF_w552Yn_dh",
        "colab": {
          "base_uri": "https://localhost:8080/",
          "height": 582
        },
        "outputId": "62d172f7-6831-4380-cac8-19df497a5357"
      },
      "source": [
        "def normalize(x):\n",
        "  return ((x-x.min()) / (x.max()-x.min()))*10\n",
        "\n",
        "col = list(df.iloc[:,[1,2,3,4,5]])                         \n",
        "for i in range(len(col)):                     \n",
        "  df[[col[i]]] = df[[col[i]]].apply(normalize)\n",
        "\n",
        "df"
      ],
      "execution_count": 9,
      "outputs": [
        {
          "output_type": "execute_result",
          "data": {
            "text/html": [
              "<div>\n",
              "<style scoped>\n",
              "    .dataframe tbody tr th:only-of-type {\n",
              "        vertical-align: middle;\n",
              "    }\n",
              "\n",
              "    .dataframe tbody tr th {\n",
              "        vertical-align: top;\n",
              "    }\n",
              "\n",
              "    .dataframe thead th {\n",
              "        text-align: right;\n",
              "    }\n",
              "</style>\n",
              "<table border=\"1\" class=\"dataframe\">\n",
              "  <thead>\n",
              "    <tr style=\"text-align: right;\">\n",
              "      <th></th>\n",
              "      <th>Nama Mobil</th>\n",
              "      <th>Ukuran</th>\n",
              "      <th>Kenyamanan</th>\n",
              "      <th>Irit</th>\n",
              "      <th>Kecepatan</th>\n",
              "      <th>Harga</th>\n",
              "    </tr>\n",
              "  </thead>\n",
              "  <tbody>\n",
              "    <tr>\n",
              "      <th>0</th>\n",
              "      <td>Toyota Agya</td>\n",
              "      <td>1.428571</td>\n",
              "      <td>1.428571</td>\n",
              "      <td>8.333333</td>\n",
              "      <td>2.5</td>\n",
              "      <td>0.217391</td>\n",
              "    </tr>\n",
              "    <tr>\n",
              "      <th>1</th>\n",
              "      <td>Daihatsu Alya</td>\n",
              "      <td>1.428571</td>\n",
              "      <td>0.000000</td>\n",
              "      <td>8.333333</td>\n",
              "      <td>2.5</td>\n",
              "      <td>0.326087</td>\n",
              "    </tr>\n",
              "    <tr>\n",
              "      <th>2</th>\n",
              "      <td>Toyota Avanza</td>\n",
              "      <td>4.285714</td>\n",
              "      <td>2.857143</td>\n",
              "      <td>3.333333</td>\n",
              "      <td>2.5</td>\n",
              "      <td>1.304348</td>\n",
              "    </tr>\n",
              "    <tr>\n",
              "      <th>3</th>\n",
              "      <td>Daihatsu Xenia</td>\n",
              "      <td>4.285714</td>\n",
              "      <td>1.428571</td>\n",
              "      <td>3.333333</td>\n",
              "      <td>2.5</td>\n",
              "      <td>1.032609</td>\n",
              "    </tr>\n",
              "    <tr>\n",
              "      <th>4</th>\n",
              "      <td>Xpander</td>\n",
              "      <td>5.714286</td>\n",
              "      <td>5.714286</td>\n",
              "      <td>3.333333</td>\n",
              "      <td>5.0</td>\n",
              "      <td>1.576087</td>\n",
              "    </tr>\n",
              "    <tr>\n",
              "      <th>5</th>\n",
              "      <td>Livina</td>\n",
              "      <td>5.714286</td>\n",
              "      <td>5.714286</td>\n",
              "      <td>3.333333</td>\n",
              "      <td>5.0</td>\n",
              "      <td>1.413043</td>\n",
              "    </tr>\n",
              "    <tr>\n",
              "      <th>6</th>\n",
              "      <td>Karimun</td>\n",
              "      <td>0.000000</td>\n",
              "      <td>1.428571</td>\n",
              "      <td>10.000000</td>\n",
              "      <td>0.0</td>\n",
              "      <td>0.434783</td>\n",
              "    </tr>\n",
              "    <tr>\n",
              "      <th>7</th>\n",
              "      <td>Toyota Innova</td>\n",
              "      <td>7.142857</td>\n",
              "      <td>7.142857</td>\n",
              "      <td>1.666667</td>\n",
              "      <td>5.0</td>\n",
              "      <td>3.478261</td>\n",
              "    </tr>\n",
              "    <tr>\n",
              "      <th>8</th>\n",
              "      <td>Alphard</td>\n",
              "      <td>8.571429</td>\n",
              "      <td>10.000000</td>\n",
              "      <td>0.000000</td>\n",
              "      <td>7.5</td>\n",
              "      <td>10.000000</td>\n",
              "    </tr>\n",
              "    <tr>\n",
              "      <th>9</th>\n",
              "      <td>Toyota Vios</td>\n",
              "      <td>2.857143</td>\n",
              "      <td>5.714286</td>\n",
              "      <td>8.333333</td>\n",
              "      <td>7.5</td>\n",
              "      <td>1.847826</td>\n",
              "    </tr>\n",
              "    <tr>\n",
              "      <th>10</th>\n",
              "      <td>Honda City</td>\n",
              "      <td>2.857143</td>\n",
              "      <td>7.142857</td>\n",
              "      <td>5.000000</td>\n",
              "      <td>7.5</td>\n",
              "      <td>2.065217</td>\n",
              "    </tr>\n",
              "    <tr>\n",
              "      <th>11</th>\n",
              "      <td>Toyota Hiace</td>\n",
              "      <td>10.000000</td>\n",
              "      <td>2.857143</td>\n",
              "      <td>6.666667</td>\n",
              "      <td>2.5</td>\n",
              "      <td>4.565217</td>\n",
              "    </tr>\n",
              "    <tr>\n",
              "      <th>12</th>\n",
              "      <td>Toyota Fortuner</td>\n",
              "      <td>8.571429</td>\n",
              "      <td>7.142857</td>\n",
              "      <td>1.666667</td>\n",
              "      <td>7.5</td>\n",
              "      <td>4.565217</td>\n",
              "    </tr>\n",
              "    <tr>\n",
              "      <th>13</th>\n",
              "      <td>Toyota Foxy</td>\n",
              "      <td>8.571429</td>\n",
              "      <td>8.571429</td>\n",
              "      <td>1.666667</td>\n",
              "      <td>5.0</td>\n",
              "      <td>5.108696</td>\n",
              "    </tr>\n",
              "    <tr>\n",
              "      <th>14</th>\n",
              "      <td>Toyota Corolla Altis</td>\n",
              "      <td>2.857143</td>\n",
              "      <td>8.571429</td>\n",
              "      <td>5.000000</td>\n",
              "      <td>10.0</td>\n",
              "      <td>5.652174</td>\n",
              "    </tr>\n",
              "    <tr>\n",
              "      <th>15</th>\n",
              "      <td>Suzuki Ertiga</td>\n",
              "      <td>5.714286</td>\n",
              "      <td>5.714286</td>\n",
              "      <td>5.000000</td>\n",
              "      <td>5.0</td>\n",
              "      <td>1.630435</td>\n",
              "    </tr>\n",
              "    <tr>\n",
              "      <th>16</th>\n",
              "      <td>Suzuki Carry</td>\n",
              "      <td>5.714286</td>\n",
              "      <td>0.000000</td>\n",
              "      <td>8.333333</td>\n",
              "      <td>0.0</td>\n",
              "      <td>0.000000</td>\n",
              "    </tr>\n",
              "  </tbody>\n",
              "</table>\n",
              "</div>"
            ],
            "text/plain": [
              "              Nama Mobil     Ukuran  ...  Kecepatan      Harga\n",
              "0            Toyota Agya   1.428571  ...        2.5   0.217391\n",
              "1          Daihatsu Alya   1.428571  ...        2.5   0.326087\n",
              "2          Toyota Avanza   4.285714  ...        2.5   1.304348\n",
              "3         Daihatsu Xenia   4.285714  ...        2.5   1.032609\n",
              "4                Xpander   5.714286  ...        5.0   1.576087\n",
              "5                 Livina   5.714286  ...        5.0   1.413043\n",
              "6                Karimun   0.000000  ...        0.0   0.434783\n",
              "7          Toyota Innova   7.142857  ...        5.0   3.478261\n",
              "8                Alphard   8.571429  ...        7.5  10.000000\n",
              "9            Toyota Vios   2.857143  ...        7.5   1.847826\n",
              "10            Honda City   2.857143  ...        7.5   2.065217\n",
              "11          Toyota Hiace  10.000000  ...        2.5   4.565217\n",
              "12       Toyota Fortuner   8.571429  ...        7.5   4.565217\n",
              "13           Toyota Foxy   8.571429  ...        5.0   5.108696\n",
              "14  Toyota Corolla Altis   2.857143  ...       10.0   5.652174\n",
              "15         Suzuki Ertiga   5.714286  ...        5.0   1.630435\n",
              "16          Suzuki Carry   5.714286  ...        0.0   0.000000\n",
              "\n",
              "[17 rows x 6 columns]"
            ]
          },
          "metadata": {},
          "execution_count": 9
        }
      ]
    },
    {
      "cell_type": "markdown",
      "metadata": {
        "id": "YcA6kG5ua23u"
      },
      "source": [
        "# **Perhitungan Jarak**"
      ]
    },
    {
      "cell_type": "code",
      "metadata": {
        "id": "xeT_AwWLa5Mi"
      },
      "source": [
        "def euclidean_method(data1, data2):\n",
        "  return np.sqrt(sum([(data1[i] - data2[i]) ** 2 for i in range(len(data1))]))"
      ],
      "execution_count": 10,
      "outputs": []
    },
    {
      "cell_type": "code",
      "metadata": {
        "id": "x0-a_9nRgqwS"
      },
      "source": [
        "def manhattan_method(data1, data2):\n",
        "  return sum([abs(data1[i] - data2[i]) for i in range(len(data1))])"
      ],
      "execution_count": 11,
      "outputs": []
    },
    {
      "cell_type": "code",
      "metadata": {
        "id": "F0hXVBgYheBF"
      },
      "source": [
        "def minkowski_method(data1, data2):\n",
        "  return sum([abs(data1[i] - data2[i]) ** 1.5 for i in range(len(data1))]) ** (1/1.5)"
      ],
      "execution_count": 12,
      "outputs": []
    },
    {
      "cell_type": "code",
      "metadata": {
        "id": "VyflE6ynlPtk"
      },
      "source": [
        "def supremum_method(data1, data2):\n",
        "  return max([abs(data1[i] - data2[i]) for i in range(len(data1))])"
      ],
      "execution_count": 13,
      "outputs": []
    },
    {
      "cell_type": "code",
      "metadata": {
        "id": "iXlA5HFBkuIT"
      },
      "source": [
        "def get_neighbors(data1, data2, k):\n",
        "    euclidean, manhattan, minkowski, supremum = [], [], [], []\n",
        "    for i in range(len(data1)):\n",
        "        row = data1.iloc[i, [1, 2, 3, 4, 5]].tolist()\n",
        "        euclidean.append(\n",
        "            [euclidean_method(row, data2), df['Nama Mobil'][i]])\n",
        "        minkowski.append(\n",
        "            [minkowski_method(row, data2), df['Nama Mobil'][i]])\n",
        "        manhattan.append(\n",
        "            [manhattan_method(row, data2), df['Nama Mobil'][i]])\n",
        "        supremum.append(\n",
        "            [supremum_method(row, data2), df['Nama Mobil'][i]])\n",
        "    \n",
        "    euclidean = sorted(euclidean)[:k]\n",
        "    manhattan = sorted(manhattan)[:k]\n",
        "    minkowski = sorted(minkowski)[:k]\n",
        "    supremum = sorted(supremum)[:k]\n",
        "\n",
        "    return euclidean, manhattan, minkowski, supremum"
      ],
      "execution_count": 14,
      "outputs": []
    },
    {
      "cell_type": "markdown",
      "metadata": {
        "id": "EaONsb-z1IAO"
      },
      "source": [
        "# **Klasifikasi KNN**"
      ]
    },
    {
      "cell_type": "code",
      "metadata": {
        "id": "-iWnrMx1hSG4"
      },
      "source": [
        "def knn(data1, data2, k = 3):\n",
        "  euclidean, manhattan, minkowski, supremum = get_neighbors(data1, data2, k)\n",
        "  dist = [['Euclidean', euclidean], ['Manhattan', manhattan], [\n",
        "      'Minkowski', minkowski], ['Supremum', supremum]]\n",
        "\n",
        "  return dist"
      ],
      "execution_count": 15,
      "outputs": []
    },
    {
      "cell_type": "markdown",
      "metadata": {
        "id": "kBEitiSsM3RC"
      },
      "source": [
        "# **Main Program**"
      ]
    },
    {
      "cell_type": "code",
      "metadata": {
        "colab": {
          "base_uri": "https://localhost:8080/"
        },
        "id": "fSbfW6ixnmWZ",
        "outputId": "09422d75-6147-4dc1-f053-8ff79f716f74"
      },
      "source": [
        "ukuran = float(input(\"Kategori Ukuran Mobil \\t\\t: \"))\n",
        "kenyamanan = float(input(\"Kategori Kenyamanan Mobil \\t: \"))\n",
        "irit = float(input(\"Kategori Keiritan Mobil \\t: \"))\n",
        "kecepatan = float(input(\"Kategori Kecepatan Mobil \\t: \"))\n",
        "harga = float(input(\"Kategori Harga Mobil \\t\\t: \"))\n",
        "\n",
        "dist = knn(df, [ukuran, kenyamanan, irit, kecepatan, harga])\n",
        "for method in dist:\n",
        "  print(\"\\n--------------------------------------------------\")\n",
        "  print(f'|Metode yang digunakan : {method[0]}\\t\\t |')\n",
        "  print(\"--------------------------------------------------\")\n",
        "  res_car = []\n",
        "  for i, dist in enumerate(method[1]):\n",
        "      print(f'{i+1}.Nama Mobil \\t: {dist[1]} \\n  Jarak \\t: {round(dist[0], 2)}')\n",
        "      res_car.append(dist[1])\n",
        "  pd.DataFrame(res_car, columns=['Nama Mobil']).to_excel(\n",
        "      f'rekomendasi_{method[0]}.xls', engine='openpyxl', index=False)"
      ],
      "execution_count": 16,
      "outputs": [
        {
          "output_type": "stream",
          "name": "stdout",
          "text": [
            "Kategori Ukuran Mobil \t\t: 5\n",
            "Kategori Kenyamanan Mobil \t: 10\n",
            "Kategori Keiritan Mobil \t: 10\n",
            "Kategori Kecepatan Mobil \t: 5\n",
            "Kategori Harga Mobil \t\t: 8\n",
            "\n",
            "--------------------------------------------------\n",
            "|Metode yang digunakan : Euclidean\t\t |\n",
            "--------------------------------------------------\n",
            "1.Nama Mobil \t: Toyota Corolla Altis \n",
            "  Jarak \t: 7.88\n",
            "2.Nama Mobil \t: Toyota Vios \n",
            "  Jarak \t: 8.36\n",
            "3.Nama Mobil \t: Honda City \n",
            "  Jarak \t: 8.9\n",
            "\n",
            "--------------------------------------------------\n",
            "|Metode yang digunakan : Manhattan\t\t |\n",
            "--------------------------------------------------\n",
            "1.Nama Mobil \t: Toyota Corolla Altis \n",
            "  Jarak \t: 15.92\n",
            "2.Nama Mobil \t: Toyota Foxy \n",
            "  Jarak \t: 16.22\n",
            "3.Nama Mobil \t: Suzuki Ertiga \n",
            "  Jarak \t: 16.37\n",
            "\n",
            "--------------------------------------------------\n",
            "|Metode yang digunakan : Minkowski\t\t |\n",
            "--------------------------------------------------\n",
            "1.Nama Mobil \t: Toyota Corolla Altis \n",
            "  Jarak \t: 9.83\n",
            "2.Nama Mobil \t: Toyota Vios \n",
            "  Jarak \t: 10.37\n",
            "3.Nama Mobil \t: Suzuki Ertiga \n",
            "  Jarak \t: 11.05\n",
            "\n",
            "--------------------------------------------------\n",
            "|Metode yang digunakan : Supremum\t\t |\n",
            "--------------------------------------------------\n",
            "1.Nama Mobil \t: Toyota Corolla Altis \n",
            "  Jarak \t: 5.0\n",
            "2.Nama Mobil \t: Honda City \n",
            "  Jarak \t: 5.93\n",
            "3.Nama Mobil \t: Toyota Vios \n",
            "  Jarak \t: 6.15\n"
          ]
        }
      ]
    }
  ]
}